{
 "cells": [
  {
   "cell_type": "code",
   "execution_count": 1,
   "id": "e2123674",
   "metadata": {},
   "outputs": [
    {
     "name": "stdout",
     "output_type": "stream",
     "text": [
      "[1] \"HelloWorld ! This is R !!!\"\n"
     ]
    }
   ],
   "source": [
    "a <- 'HelloWorld ! This is R !!!'\n",
    "print(a)"
   ]
  },
  {
   "cell_type": "code",
   "execution_count": 2,
   "id": "30379275",
   "metadata": {},
   "outputs": [
    {
     "ename": "ERROR",
     "evalue": "Error in library(\"nnet\"): 不存在叫'nnet'这个名字的程辑包\n",
     "output_type": "error",
     "traceback": [
      "Error in library(\"nnet\"): 不存在叫'nnet'这个名字的程辑包\nTraceback:\n",
      "1. library(\"nnet\")"
     ]
    }
   ],
   "source": [
    "library('nnet')"
   ]
  },
  {
   "cell_type": "code",
   "execution_count": null,
   "id": "cd3724c9",
   "metadata": {},
   "outputs": [],
   "source": [
    "install.packages('nnet')"
   ]
  },
  {
   "cell_type": "code",
   "execution_count": null,
   "id": "bf406fe0",
   "metadata": {},
   "outputs": [],
   "source": [
    "library('nnet')"
   ]
  },
  {
   "cell_type": "code",
   "execution_count": null,
   "id": "28188050",
   "metadata": {},
   "outputs": [],
   "source": []
  }
 ],
 "metadata": {
  "kernelspec": {
   "display_name": "R",
   "language": "R",
   "name": "ir"
  },
  "language_info": {
   "codemirror_mode": "r",
   "file_extension": ".r",
   "mimetype": "text/x-r-source",
   "name": "R",
   "pygments_lexer": "r",
   "version": "4.1.3"
  }
 },
 "nbformat": 4,
 "nbformat_minor": 5
}
