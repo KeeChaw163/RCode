{
 "cells": [
  {
   "cell_type": "markdown",
   "id": "a794eda7",
   "metadata": {},
   "source": [
    "### 1、实验一（读取系统日期时间，进行变量类型的转换，对转换前后的变量类型进行辨别对比）"
   ]
  },
  {
   "cell_type": "markdown",
   "id": "844d4eac",
   "metadata": {},
   "source": [
    "#### （1）使用读取系统当前日期时间的 3 个函数： Sys.Date（）、 Sys.time（）、 date（）。"
   ]
  },
  {
   "cell_type": "code",
   "execution_count": 1,
   "id": "511d2fdd",
   "metadata": {},
   "outputs": [
    {
     "data": {
      "text/html": [
       "<time datetime=\"2023-03-14\">2023-03-14</time>"
      ],
      "text/latex": [
       "2023-03-14"
      ],
      "text/markdown": [
       "2023-03-14"
      ],
      "text/plain": [
       "[1] \"2023-03-14\""
      ]
     },
     "metadata": {},
     "output_type": "display_data"
    },
    {
     "data": {
      "text/plain": [
       "[1] \"2023-03-14 09:12:46 CST\""
      ]
     },
     "metadata": {},
     "output_type": "display_data"
    },
    {
     "data": {
      "text/html": [
       "'Tue Mar 14 09:12:46 2023'"
      ],
      "text/latex": [
       "'Tue Mar 14 09:12:46 2023'"
      ],
      "text/markdown": [
       "'Tue Mar 14 09:12:46 2023'"
      ],
      "text/plain": [
       "[1] \"Tue Mar 14 09:12:46 2023\""
      ]
     },
     "metadata": {},
     "output_type": "display_data"
    }
   ],
   "source": [
    "(t1 <- Sys.Date())\n",
    "(t2 <- Sys.time())\n",
    "(t3 <- date())"
   ]
  },
  {
   "cell_type": "markdown",
   "id": "5cae1478",
   "metadata": {},
   "source": [
    "#### （2）使用类型辨别函数 class（）判断读取的 3 个不同的结果的类型。"
   ]
  },
  {
   "cell_type": "code",
   "execution_count": 2,
   "id": "b26d1b3d",
   "metadata": {},
   "outputs": [
    {
     "data": {
      "text/html": [
       "'Date'"
      ],
      "text/latex": [
       "'Date'"
      ],
      "text/markdown": [
       "'Date'"
      ],
      "text/plain": [
       "[1] \"Date\""
      ]
     },
     "metadata": {},
     "output_type": "display_data"
    },
    {
     "data": {
      "text/html": [
       "<style>\n",
       ".list-inline {list-style: none; margin:0; padding: 0}\n",
       ".list-inline>li {display: inline-block}\n",
       ".list-inline>li:not(:last-child)::after {content: \"\\00b7\"; padding: 0 .5ex}\n",
       "</style>\n",
       "<ol class=list-inline><li>'POSIXct'</li><li>'POSIXt'</li></ol>\n"
      ],
      "text/latex": [
       "\\begin{enumerate*}\n",
       "\\item 'POSIXct'\n",
       "\\item 'POSIXt'\n",
       "\\end{enumerate*}\n"
      ],
      "text/markdown": [
       "1. 'POSIXct'\n",
       "2. 'POSIXt'\n",
       "\n",
       "\n"
      ],
      "text/plain": [
       "[1] \"POSIXct\" \"POSIXt\" "
      ]
     },
     "metadata": {},
     "output_type": "display_data"
    },
    {
     "data": {
      "text/html": [
       "'character'"
      ],
      "text/latex": [
       "'character'"
      ],
      "text/markdown": [
       "'character'"
      ],
      "text/plain": [
       "[1] \"character\""
      ]
     },
     "metadata": {},
     "output_type": "display_data"
    }
   ],
   "source": [
    "class(t1)\n",
    "class(t2)\n",
    "class(t3)"
   ]
  },
  {
   "cell_type": "markdown",
   "id": "d43f4f89",
   "metadata": {},
   "source": [
    "#### （3）将读取到的日期时间值转换为另外一种数据类型：将年月日格式的日期时间值转化 为月日年格式的字符串。 "
   ]
  },
  {
   "cell_type": "code",
   "execution_count": 3,
   "id": "c2a1b272",
   "metadata": {},
   "outputs": [
    {
     "data": {
      "text/html": [
       "'03/14/2023'"
      ],
      "text/latex": [
       "'03/14/2023'"
      ],
      "text/markdown": [
       "'03/14/2023'"
      ],
      "text/plain": [
       "[1] \"03/14/2023\""
      ]
     },
     "metadata": {},
     "output_type": "display_data"
    },
    {
     "data": {
      "text/html": [
       "'03/14/2023'"
      ],
      "text/latex": [
       "'03/14/2023'"
      ],
      "text/markdown": [
       "'03/14/2023'"
      ],
      "text/plain": [
       "[1] \"03/14/2023\""
      ]
     },
     "metadata": {},
     "output_type": "display_data"
    }
   ],
   "source": [
    "format(t1, \"%m/%d/%Y\")\n",
    "format(t2, \"%m/%d/%Y\")"
   ]
  },
  {
   "cell_type": "markdown",
   "id": "63ce47bf",
   "metadata": {},
   "source": [
    "#### （4）判断转换后的结果的类型，判定是否转换成功"
   ]
  },
  {
   "cell_type": "code",
   "execution_count": 4,
   "id": "3f79f2ad",
   "metadata": {},
   "outputs": [
    {
     "data": {
      "text/html": [
       "'character'"
      ],
      "text/latex": [
       "'character'"
      ],
      "text/markdown": [
       "'character'"
      ],
      "text/plain": [
       "[1] \"character\""
      ]
     },
     "metadata": {},
     "output_type": "display_data"
    },
    {
     "data": {
      "text/html": [
       "TRUE"
      ],
      "text/latex": [
       "TRUE"
      ],
      "text/markdown": [
       "TRUE"
      ],
      "text/plain": [
       "[1] TRUE"
      ]
     },
     "metadata": {},
     "output_type": "display_data"
    },
    {
     "data": {
      "text/html": [
       "'character'"
      ],
      "text/latex": [
       "'character'"
      ],
      "text/markdown": [
       "'character'"
      ],
      "text/plain": [
       "[1] \"character\""
      ]
     },
     "metadata": {},
     "output_type": "display_data"
    },
    {
     "data": {
      "text/html": [
       "TRUE"
      ],
      "text/latex": [
       "TRUE"
      ],
      "text/markdown": [
       "TRUE"
      ],
      "text/plain": [
       "[1] TRUE"
      ]
     },
     "metadata": {},
     "output_type": "display_data"
    },
    {
     "data": {
      "text/html": [
       "'character'"
      ],
      "text/latex": [
       "'character'"
      ],
      "text/markdown": [
       "'character'"
      ],
      "text/plain": [
       "[1] \"character\""
      ]
     },
     "metadata": {},
     "output_type": "display_data"
    },
    {
     "data": {
      "text/html": [
       "TRUE"
      ],
      "text/latex": [
       "TRUE"
      ],
      "text/markdown": [
       "TRUE"
      ],
      "text/plain": [
       "[1] TRUE"
      ]
     },
     "metadata": {},
     "output_type": "display_data"
    }
   ],
   "source": [
    "class(format(t1, \"%m/%d/%Y\"))\n",
    "is.character(format(t1, \"%m/%d/%Y\"))\n",
    "class(format(t2, \"%m/%d/%Y\"))\n",
    "is.character(format(t2, \"%m/%d/%Y\"))\n",
    "class(t3)\n",
    "is.character(t3)"
   ]
  },
  {
   "cell_type": "markdown",
   "id": "5776be71",
   "metadata": {},
   "source": [
    "### 2、实验二（创建多种数据结构，并进行数据结构的转换、索引、扩展等编辑操作）"
   ]
  },
  {
   "cell_type": "markdown",
   "id": "8710f873",
   "metadata": {},
   "source": [
    "#### （1）创建一个向量 x，内含元素为序列： 5.1 4.9 4.7 4.6 5.0 3.5 3.0 3.2 3.1 3.6。"
   ]
  },
  {
   "cell_type": "code",
   "execution_count": 5,
   "id": "77022866",
   "metadata": {},
   "outputs": [
    {
     "data": {
      "text/html": [
       "<style>\n",
       ".list-inline {list-style: none; margin:0; padding: 0}\n",
       ".list-inline>li {display: inline-block}\n",
       ".list-inline>li:not(:last-child)::after {content: \"\\00b7\"; padding: 0 .5ex}\n",
       "</style>\n",
       "<ol class=list-inline><li>5.1</li><li>4.9</li><li>4.7</li><li>4.6</li><li>5</li><li>3.5</li><li>3</li><li>3.2</li><li>3.1</li><li>3.6</li></ol>\n"
      ],
      "text/latex": [
       "\\begin{enumerate*}\n",
       "\\item 5.1\n",
       "\\item 4.9\n",
       "\\item 4.7\n",
       "\\item 4.6\n",
       "\\item 5\n",
       "\\item 3.5\n",
       "\\item 3\n",
       "\\item 3.2\n",
       "\\item 3.1\n",
       "\\item 3.6\n",
       "\\end{enumerate*}\n"
      ],
      "text/markdown": [
       "1. 5.1\n",
       "2. 4.9\n",
       "3. 4.7\n",
       "4. 4.6\n",
       "5. 5\n",
       "6. 3.5\n",
       "7. 3\n",
       "8. 3.2\n",
       "9. 3.1\n",
       "10. 3.6\n",
       "\n",
       "\n"
      ],
      "text/plain": [
       " [1] 5.1 4.9 4.7 4.6 5.0 3.5 3.0 3.2 3.1 3.6"
      ]
     },
     "metadata": {},
     "output_type": "display_data"
    }
   ],
   "source": [
    "(x <- c(5.1,4.9,4.7,4.6,5.0,3.5,3.0,3.2,3.1,3.6))"
   ]
  },
  {
   "cell_type": "markdown",
   "id": "250bbcbc",
   "metadata": {},
   "source": [
    "#### （2）查询向量 x 中序号为 3 6 9 的元素 查询向量 x 中大于 4.0 小于等于 5.0 的元素的位置"
   ]
  },
  {
   "cell_type": "code",
   "execution_count": 6,
   "id": "01a03c34",
   "metadata": {},
   "outputs": [
    {
     "data": {
      "text/html": [
       "<style>\n",
       ".list-inline {list-style: none; margin:0; padding: 0}\n",
       ".list-inline>li {display: inline-block}\n",
       ".list-inline>li:not(:last-child)::after {content: \"\\00b7\"; padding: 0 .5ex}\n",
       "</style>\n",
       "<ol class=list-inline><li>4.7</li><li>3.5</li><li>3.1</li></ol>\n"
      ],
      "text/latex": [
       "\\begin{enumerate*}\n",
       "\\item 4.7\n",
       "\\item 3.5\n",
       "\\item 3.1\n",
       "\\end{enumerate*}\n"
      ],
      "text/markdown": [
       "1. 4.7\n",
       "2. 3.5\n",
       "3. 3.1\n",
       "\n",
       "\n"
      ],
      "text/plain": [
       "[1] 4.7 3.5 3.1"
      ]
     },
     "metadata": {},
     "output_type": "display_data"
    },
    {
     "data": {
      "text/html": [
       "<style>\n",
       ".list-inline {list-style: none; margin:0; padding: 0}\n",
       ".list-inline>li {display: inline-block}\n",
       ".list-inline>li:not(:last-child)::after {content: \"\\00b7\"; padding: 0 .5ex}\n",
       "</style>\n",
       "<ol class=list-inline><li>2</li><li>3</li><li>4</li><li>5</li></ol>\n"
      ],
      "text/latex": [
       "\\begin{enumerate*}\n",
       "\\item 2\n",
       "\\item 3\n",
       "\\item 4\n",
       "\\item 5\n",
       "\\end{enumerate*}\n"
      ],
      "text/markdown": [
       "1. 2\n",
       "2. 3\n",
       "3. 4\n",
       "4. 5\n",
       "\n",
       "\n"
      ],
      "text/plain": [
       "[1] 2 3 4 5"
      ]
     },
     "metadata": {},
     "output_type": "display_data"
    }
   ],
   "source": [
    "(x[c(3,6,9)])\n",
    "# subset(x, x > 4 & x <= 5)  # 检索向量中满足条件的元素\n",
    "which(x > 4 & x <= 5)"
   ]
  },
  {
   "cell_type": "markdown",
   "id": "8faa8ba1",
   "metadata": {},
   "source": [
    "#### （3）创建一个向量 Petal.Length，内含等差序列：首位为 1.7，等差为 0.1 ，长度为 5。"
   ]
  },
  {
   "cell_type": "code",
   "execution_count": 7,
   "id": "01a72158",
   "metadata": {},
   "outputs": [
    {
     "data": {
      "text/html": [
       "<style>\n",
       ".list-inline {list-style: none; margin:0; padding: 0}\n",
       ".list-inline>li {display: inline-block}\n",
       ".list-inline>li:not(:last-child)::after {content: \"\\00b7\"; padding: 0 .5ex}\n",
       "</style>\n",
       "<ol class=list-inline><li>1.7</li><li>1.8</li><li>1.9</li><li>2</li><li>2.1</li></ol>\n"
      ],
      "text/latex": [
       "\\begin{enumerate*}\n",
       "\\item 1.7\n",
       "\\item 1.8\n",
       "\\item 1.9\n",
       "\\item 2\n",
       "\\item 2.1\n",
       "\\end{enumerate*}\n"
      ],
      "text/markdown": [
       "1. 1.7\n",
       "2. 1.8\n",
       "3. 1.9\n",
       "4. 2\n",
       "5. 2.1\n",
       "\n",
       "\n"
      ],
      "text/plain": [
       "[1] 1.7 1.8 1.9 2.0 2.1"
      ]
     },
     "metadata": {},
     "output_type": "display_data"
    }
   ],
   "source": [
    "(Petal.Length <- seq(1.7,by=0.1,length.out=5))"
   ]
  },
  {
   "cell_type": "markdown",
   "id": "859b6712",
   "metadata": {},
   "source": [
    "#### （4）创建一个向量 Petal.Width，内含重复序列：重复 0.2 五次。"
   ]
  },
  {
   "cell_type": "code",
   "execution_count": 8,
   "id": "1101be2b",
   "metadata": {},
   "outputs": [
    {
     "data": {
      "text/html": [
       "<style>\n",
       ".list-inline {list-style: none; margin:0; padding: 0}\n",
       ".list-inline>li {display: inline-block}\n",
       ".list-inline>li:not(:last-child)::after {content: \"\\00b7\"; padding: 0 .5ex}\n",
       "</style>\n",
       "<ol class=list-inline><li>0.2</li><li>0.2</li><li>0.2</li><li>0.2</li><li>0.2</li></ol>\n"
      ],
      "text/latex": [
       "\\begin{enumerate*}\n",
       "\\item 0.2\n",
       "\\item 0.2\n",
       "\\item 0.2\n",
       "\\item 0.2\n",
       "\\item 0.2\n",
       "\\end{enumerate*}\n"
      ],
      "text/markdown": [
       "1. 0.2\n",
       "2. 0.2\n",
       "3. 0.2\n",
       "4. 0.2\n",
       "5. 0.2\n",
       "\n",
       "\n"
      ],
      "text/plain": [
       "[1] 0.2 0.2 0.2 0.2 0.2"
      ]
     },
     "metadata": {},
     "output_type": "display_data"
    }
   ],
   "source": [
    "(Petal.Width <- rep(0.2,each=5))"
   ]
  },
  {
   "cell_type": "markdown",
   "id": "557b4f77",
   "metadata": {},
   "source": [
    "#### （5）创建一个向量为重复因子序列 Species ：水平数为 3，各水平重复 2 次，序列长度为 5， 三个水平为： setosa、 versicolor、 virginica。 "
   ]
  },
  {
   "cell_type": "code",
   "execution_count": 9,
   "id": "f22f15f4",
   "metadata": {},
   "outputs": [
    {
     "data": {
      "text/html": [
       "<style>\n",
       ".list-inline {list-style: none; margin:0; padding: 0}\n",
       ".list-inline>li {display: inline-block}\n",
       ".list-inline>li:not(:last-child)::after {content: \"\\00b7\"; padding: 0 .5ex}\n",
       "</style>\n",
       "<ol class=list-inline><li>setosa</li><li>setosa</li><li>versicolor</li><li>versicolor</li><li>virginica</li></ol>\n",
       "\n",
       "<details>\n",
       "\t<summary style=display:list-item;cursor:pointer>\n",
       "\t\t<strong>Levels</strong>:\n",
       "\t</summary>\n",
       "\t<style>\n",
       "\t.list-inline {list-style: none; margin:0; padding: 0}\n",
       "\t.list-inline>li {display: inline-block}\n",
       "\t.list-inline>li:not(:last-child)::after {content: \"\\00b7\"; padding: 0 .5ex}\n",
       "\t</style>\n",
       "\t<ol class=list-inline><li>'setosa'</li><li>'versicolor'</li><li>'virginica'</li></ol>\n",
       "</details>"
      ],
      "text/latex": [
       "\\begin{enumerate*}\n",
       "\\item setosa\n",
       "\\item setosa\n",
       "\\item versicolor\n",
       "\\item versicolor\n",
       "\\item virginica\n",
       "\\end{enumerate*}\n",
       "\n",
       "\\emph{Levels}: \\begin{enumerate*}\n",
       "\\item 'setosa'\n",
       "\\item 'versicolor'\n",
       "\\item 'virginica'\n",
       "\\end{enumerate*}\n"
      ],
      "text/markdown": [
       "1. setosa\n",
       "2. setosa\n",
       "3. versicolor\n",
       "4. versicolor\n",
       "5. virginica\n",
       "\n",
       "\n",
       "\n",
       "**Levels**: 1. 'setosa'\n",
       "2. 'versicolor'\n",
       "3. 'virginica'\n",
       "\n",
       "\n"
      ],
      "text/plain": [
       "[1] setosa     setosa     versicolor versicolor virginica \n",
       "Levels: setosa versicolor virginica"
      ]
     },
     "metadata": {},
     "output_type": "display_data"
    }
   ],
   "source": [
    "(Species <- gl(3, 2, 5, labels= c(\"setosa\", \"versicolor\", \"virginica\")))"
   ]
  },
  {
   "cell_type": "markdown",
   "id": "96d0e270",
   "metadata": {},
   "source": [
    "#### （6）创建一个 5 行 2 列的矩阵，元素为向量 x，按列填充。"
   ]
  },
  {
   "cell_type": "code",
   "execution_count": 10,
   "id": "9aa637c1",
   "metadata": {},
   "outputs": [
    {
     "data": {
      "text/html": [
       "<table class=\"dataframe\">\n",
       "<caption>A matrix: 5 × 2 of type dbl</caption>\n",
       "<tbody>\n",
       "\t<tr><td>5.1</td><td>3.5</td></tr>\n",
       "\t<tr><td>4.9</td><td>3.0</td></tr>\n",
       "\t<tr><td>4.7</td><td>3.2</td></tr>\n",
       "\t<tr><td>4.6</td><td>3.1</td></tr>\n",
       "\t<tr><td>5.0</td><td>3.6</td></tr>\n",
       "</tbody>\n",
       "</table>\n"
      ],
      "text/latex": [
       "A matrix: 5 × 2 of type dbl\n",
       "\\begin{tabular}{ll}\n",
       "\t 5.1 & 3.5\\\\\n",
       "\t 4.9 & 3.0\\\\\n",
       "\t 4.7 & 3.2\\\\\n",
       "\t 4.6 & 3.1\\\\\n",
       "\t 5.0 & 3.6\\\\\n",
       "\\end{tabular}\n"
      ],
      "text/markdown": [
       "\n",
       "A matrix: 5 × 2 of type dbl\n",
       "\n",
       "| 5.1 | 3.5 |\n",
       "| 4.9 | 3.0 |\n",
       "| 4.7 | 3.2 |\n",
       "| 4.6 | 3.1 |\n",
       "| 5.0 | 3.6 |\n",
       "\n"
      ],
      "text/plain": [
       "     [,1] [,2]\n",
       "[1,] 5.1  3.5 \n",
       "[2,] 4.9  3.0 \n",
       "[3,] 4.7  3.2 \n",
       "[4,] 4.6  3.1 \n",
       "[5,] 5.0  3.6 "
      ]
     },
     "metadata": {},
     "output_type": "display_data"
    }
   ],
   "source": [
    "(juzheng <- matrix(x, ncol = 2, nrow = 5, byrow = F))"
   ]
  },
  {
   "cell_type": "markdown",
   "id": "3f1d7cd0",
   "metadata": {},
   "source": [
    "#### （7）将矩阵写人数据框 data_iris，更改列名为： Sepal.Length 、 Sepal.Width。 "
   ]
  },
  {
   "cell_type": "code",
   "execution_count": 11,
   "id": "5230131a",
   "metadata": {},
   "outputs": [
    {
     "data": {
      "text/html": [
       "<table class=\"dataframe\">\n",
       "<caption>A data.frame: 5 × 2</caption>\n",
       "<thead>\n",
       "\t<tr><th scope=col>X1</th><th scope=col>X2</th></tr>\n",
       "\t<tr><th scope=col>&lt;dbl&gt;</th><th scope=col>&lt;dbl&gt;</th></tr>\n",
       "</thead>\n",
       "<tbody>\n",
       "\t<tr><td>5.1</td><td>3.5</td></tr>\n",
       "\t<tr><td>4.9</td><td>3.0</td></tr>\n",
       "\t<tr><td>4.7</td><td>3.2</td></tr>\n",
       "\t<tr><td>4.6</td><td>3.1</td></tr>\n",
       "\t<tr><td>5.0</td><td>3.6</td></tr>\n",
       "</tbody>\n",
       "</table>\n"
      ],
      "text/latex": [
       "A data.frame: 5 × 2\n",
       "\\begin{tabular}{ll}\n",
       " X1 & X2\\\\\n",
       " <dbl> & <dbl>\\\\\n",
       "\\hline\n",
       "\t 5.1 & 3.5\\\\\n",
       "\t 4.9 & 3.0\\\\\n",
       "\t 4.7 & 3.2\\\\\n",
       "\t 4.6 & 3.1\\\\\n",
       "\t 5.0 & 3.6\\\\\n",
       "\\end{tabular}\n"
      ],
      "text/markdown": [
       "\n",
       "A data.frame: 5 × 2\n",
       "\n",
       "| X1 &lt;dbl&gt; | X2 &lt;dbl&gt; |\n",
       "|---|---|\n",
       "| 5.1 | 3.5 |\n",
       "| 4.9 | 3.0 |\n",
       "| 4.7 | 3.2 |\n",
       "| 4.6 | 3.1 |\n",
       "| 5.0 | 3.6 |\n",
       "\n"
      ],
      "text/plain": [
       "  X1  X2 \n",
       "1 5.1 3.5\n",
       "2 4.9 3.0\n",
       "3 4.7 3.2\n",
       "4 4.6 3.1\n",
       "5 5.0 3.6"
      ]
     },
     "metadata": {},
     "output_type": "display_data"
    },
    {
     "data": {
      "text/html": [
       "<table class=\"dataframe\">\n",
       "<caption>A data.frame: 5 × 2</caption>\n",
       "<thead>\n",
       "\t<tr><th scope=col>Sepal.Length</th><th scope=col>Sepal.Width</th></tr>\n",
       "\t<tr><th scope=col>&lt;dbl&gt;</th><th scope=col>&lt;dbl&gt;</th></tr>\n",
       "</thead>\n",
       "<tbody>\n",
       "\t<tr><td>5.1</td><td>3.5</td></tr>\n",
       "\t<tr><td>4.9</td><td>3.0</td></tr>\n",
       "\t<tr><td>4.7</td><td>3.2</td></tr>\n",
       "\t<tr><td>4.6</td><td>3.1</td></tr>\n",
       "\t<tr><td>5.0</td><td>3.6</td></tr>\n",
       "</tbody>\n",
       "</table>\n"
      ],
      "text/latex": [
       "A data.frame: 5 × 2\n",
       "\\begin{tabular}{ll}\n",
       " Sepal.Length & Sepal.Width\\\\\n",
       " <dbl> & <dbl>\\\\\n",
       "\\hline\n",
       "\t 5.1 & 3.5\\\\\n",
       "\t 4.9 & 3.0\\\\\n",
       "\t 4.7 & 3.2\\\\\n",
       "\t 4.6 & 3.1\\\\\n",
       "\t 5.0 & 3.6\\\\\n",
       "\\end{tabular}\n"
      ],
      "text/markdown": [
       "\n",
       "A data.frame: 5 × 2\n",
       "\n",
       "| Sepal.Length &lt;dbl&gt; | Sepal.Width &lt;dbl&gt; |\n",
       "|---|---|\n",
       "| 5.1 | 3.5 |\n",
       "| 4.9 | 3.0 |\n",
       "| 4.7 | 3.2 |\n",
       "| 4.6 | 3.1 |\n",
       "| 5.0 | 3.6 |\n",
       "\n"
      ],
      "text/plain": [
       "  Sepal.Length Sepal.Width\n",
       "1 5.1          3.5        \n",
       "2 4.9          3.0        \n",
       "3 4.7          3.2        \n",
       "4 4.6          3.1        \n",
       "5 5.0          3.6        "
      ]
     },
     "metadata": {},
     "output_type": "display_data"
    }
   ],
   "source": [
    "(data_iris <- (data.frame(juzheng)) ) # 将矩阵转化为数据框\n",
    "names(data_iris)[1:2] <- c(\"Sepal.Length\" ,\"Sepal.Width\")\n",
    "(data_iris)"
   ]
  },
  {
   "cell_type": "markdown",
   "id": "f9088226",
   "metadata": {},
   "source": [
    "#### （8）将向量 Petal.Length、 Petal.Width、 Species 按列合并至数据框 data_iris 中。 "
   ]
  },
  {
   "cell_type": "code",
   "execution_count": 12,
   "id": "2910139c",
   "metadata": {},
   "outputs": [
    {
     "data": {
      "text/html": [
       "<table class=\"dataframe\">\n",
       "<caption>A data.frame: 5 × 5</caption>\n",
       "<thead>\n",
       "\t<tr><th scope=col>Sepal.Length</th><th scope=col>Sepal.Width</th><th scope=col>Petal.Length</th><th scope=col>Petal.Width</th><th scope=col>Species</th></tr>\n",
       "\t<tr><th scope=col>&lt;dbl&gt;</th><th scope=col>&lt;dbl&gt;</th><th scope=col>&lt;dbl&gt;</th><th scope=col>&lt;dbl&gt;</th><th scope=col>&lt;fct&gt;</th></tr>\n",
       "</thead>\n",
       "<tbody>\n",
       "\t<tr><td>5.1</td><td>3.5</td><td>1.7</td><td>0.2</td><td>setosa    </td></tr>\n",
       "\t<tr><td>4.9</td><td>3.0</td><td>1.8</td><td>0.2</td><td>setosa    </td></tr>\n",
       "\t<tr><td>4.7</td><td>3.2</td><td>1.9</td><td>0.2</td><td>versicolor</td></tr>\n",
       "\t<tr><td>4.6</td><td>3.1</td><td>2.0</td><td>0.2</td><td>versicolor</td></tr>\n",
       "\t<tr><td>5.0</td><td>3.6</td><td>2.1</td><td>0.2</td><td>virginica </td></tr>\n",
       "</tbody>\n",
       "</table>\n"
      ],
      "text/latex": [
       "A data.frame: 5 × 5\n",
       "\\begin{tabular}{lllll}\n",
       " Sepal.Length & Sepal.Width & Petal.Length & Petal.Width & Species\\\\\n",
       " <dbl> & <dbl> & <dbl> & <dbl> & <fct>\\\\\n",
       "\\hline\n",
       "\t 5.1 & 3.5 & 1.7 & 0.2 & setosa    \\\\\n",
       "\t 4.9 & 3.0 & 1.8 & 0.2 & setosa    \\\\\n",
       "\t 4.7 & 3.2 & 1.9 & 0.2 & versicolor\\\\\n",
       "\t 4.6 & 3.1 & 2.0 & 0.2 & versicolor\\\\\n",
       "\t 5.0 & 3.6 & 2.1 & 0.2 & virginica \\\\\n",
       "\\end{tabular}\n"
      ],
      "text/markdown": [
       "\n",
       "A data.frame: 5 × 5\n",
       "\n",
       "| Sepal.Length &lt;dbl&gt; | Sepal.Width &lt;dbl&gt; | Petal.Length &lt;dbl&gt; | Petal.Width &lt;dbl&gt; | Species &lt;fct&gt; |\n",
       "|---|---|---|---|---|\n",
       "| 5.1 | 3.5 | 1.7 | 0.2 | setosa     |\n",
       "| 4.9 | 3.0 | 1.8 | 0.2 | setosa     |\n",
       "| 4.7 | 3.2 | 1.9 | 0.2 | versicolor |\n",
       "| 4.6 | 3.1 | 2.0 | 0.2 | versicolor |\n",
       "| 5.0 | 3.6 | 2.1 | 0.2 | virginica  |\n",
       "\n"
      ],
      "text/plain": [
       "  Sepal.Length Sepal.Width Petal.Length Petal.Width Species   \n",
       "1 5.1          3.5         1.7          0.2         setosa    \n",
       "2 4.9          3.0         1.8          0.2         setosa    \n",
       "3 4.7          3.2         1.9          0.2         versicolor\n",
       "4 4.6          3.1         2.0          0.2         versicolor\n",
       "5 5.0          3.6         2.1          0.2         virginica "
      ]
     },
     "metadata": {},
     "output_type": "display_data"
    }
   ],
   "source": [
    "(data_iris <- cbind(data_iris,Petal.Length, Petal.Width,Species))"
   ]
  },
  {
   "cell_type": "markdown",
   "id": "ce49b9a9",
   "metadata": {},
   "source": [
    "#### （9）将数据框 data iris 保存为 txt 文件，保存到工作空间的 test 目录下。"
   ]
  },
  {
   "cell_type": "code",
   "execution_count": 13,
   "id": "46da1fc8",
   "metadata": {},
   "outputs": [],
   "source": [
    "write.table(data_iris, file=\"FileSave/data_iris.txt\")"
   ]
  },
  {
   "cell_type": "markdown",
   "id": "02a44e17",
   "metadata": {},
   "source": [
    "### 3、实验三（读取 txt 文件，进行编辑操作，再写入另外一个 csv 文件中）"
   ]
  },
  {
   "cell_type": "markdown",
   "id": "70634d8b",
   "metadata": {},
   "source": [
    "#### （1）读取实验 保存在 test 目录下的 txt 文件 data iris"
   ]
  },
  {
   "cell_type": "code",
   "execution_count": 14,
   "id": "4a502e3c",
   "metadata": {},
   "outputs": [
    {
     "data": {
      "text/html": [
       "<table class=\"dataframe\">\n",
       "<caption>A data.frame: 5 × 5</caption>\n",
       "<thead>\n",
       "\t<tr><th></th><th scope=col>Sepal.Length</th><th scope=col>Sepal.Width</th><th scope=col>Petal.Length</th><th scope=col>Petal.Width</th><th scope=col>Species</th></tr>\n",
       "\t<tr><th></th><th scope=col>&lt;dbl&gt;</th><th scope=col>&lt;dbl&gt;</th><th scope=col>&lt;dbl&gt;</th><th scope=col>&lt;dbl&gt;</th><th scope=col>&lt;chr&gt;</th></tr>\n",
       "</thead>\n",
       "<tbody>\n",
       "\t<tr><th scope=row>1</th><td>5.1</td><td>3.5</td><td>1.7</td><td>0.2</td><td>setosa    </td></tr>\n",
       "\t<tr><th scope=row>2</th><td>4.9</td><td>3.0</td><td>1.8</td><td>0.2</td><td>setosa    </td></tr>\n",
       "\t<tr><th scope=row>3</th><td>4.7</td><td>3.2</td><td>1.9</td><td>0.2</td><td>versicolor</td></tr>\n",
       "\t<tr><th scope=row>4</th><td>4.6</td><td>3.1</td><td>2.0</td><td>0.2</td><td>versicolor</td></tr>\n",
       "\t<tr><th scope=row>5</th><td>5.0</td><td>3.6</td><td>2.1</td><td>0.2</td><td>virginica </td></tr>\n",
       "</tbody>\n",
       "</table>\n"
      ],
      "text/latex": [
       "A data.frame: 5 × 5\n",
       "\\begin{tabular}{r|lllll}\n",
       "  & Sepal.Length & Sepal.Width & Petal.Length & Petal.Width & Species\\\\\n",
       "  & <dbl> & <dbl> & <dbl> & <dbl> & <chr>\\\\\n",
       "\\hline\n",
       "\t1 & 5.1 & 3.5 & 1.7 & 0.2 & setosa    \\\\\n",
       "\t2 & 4.9 & 3.0 & 1.8 & 0.2 & setosa    \\\\\n",
       "\t3 & 4.7 & 3.2 & 1.9 & 0.2 & versicolor\\\\\n",
       "\t4 & 4.6 & 3.1 & 2.0 & 0.2 & versicolor\\\\\n",
       "\t5 & 5.0 & 3.6 & 2.1 & 0.2 & virginica \\\\\n",
       "\\end{tabular}\n"
      ],
      "text/markdown": [
       "\n",
       "A data.frame: 5 × 5\n",
       "\n",
       "| <!--/--> | Sepal.Length &lt;dbl&gt; | Sepal.Width &lt;dbl&gt; | Petal.Length &lt;dbl&gt; | Petal.Width &lt;dbl&gt; | Species &lt;chr&gt; |\n",
       "|---|---|---|---|---|---|\n",
       "| 1 | 5.1 | 3.5 | 1.7 | 0.2 | setosa     |\n",
       "| 2 | 4.9 | 3.0 | 1.8 | 0.2 | setosa     |\n",
       "| 3 | 4.7 | 3.2 | 1.9 | 0.2 | versicolor |\n",
       "| 4 | 4.6 | 3.1 | 2.0 | 0.2 | versicolor |\n",
       "| 5 | 5.0 | 3.6 | 2.1 | 0.2 | virginica  |\n",
       "\n"
      ],
      "text/plain": [
       "  Sepal.Length Sepal.Width Petal.Length Petal.Width Species   \n",
       "1 5.1          3.5         1.7          0.2         setosa    \n",
       "2 4.9          3.0         1.8          0.2         setosa    \n",
       "3 4.7          3.2         1.9          0.2         versicolor\n",
       "4 4.6          3.1         2.0          0.2         versicolor\n",
       "5 5.0          3.6         2.1          0.2         virginica "
      ]
     },
     "metadata": {},
     "output_type": "display_data"
    }
   ],
   "source": [
    "(data_iris <- read.table(\"FileSave/data_iris.txt\",head=T,encoding=\"UTF-8\"))"
   ]
  },
  {
   "cell_type": "markdown",
   "id": "3690bd1a",
   "metadata": {},
   "source": [
    "#### （2）将R的示例数据集 iris 中的第6~10行写入数据框 data_iris1"
   ]
  },
  {
   "cell_type": "code",
   "execution_count": 15,
   "id": "9d194a39",
   "metadata": {},
   "outputs": [
    {
     "data": {
      "text/html": [
       "<table class=\"dataframe\">\n",
       "<caption>A data.frame: 5 × 5</caption>\n",
       "<thead>\n",
       "\t<tr><th></th><th scope=col>Sepal.Length</th><th scope=col>Sepal.Width</th><th scope=col>Petal.Length</th><th scope=col>Petal.Width</th><th scope=col>Species</th></tr>\n",
       "\t<tr><th></th><th scope=col>&lt;dbl&gt;</th><th scope=col>&lt;dbl&gt;</th><th scope=col>&lt;dbl&gt;</th><th scope=col>&lt;dbl&gt;</th><th scope=col>&lt;fct&gt;</th></tr>\n",
       "</thead>\n",
       "<tbody>\n",
       "\t<tr><th scope=row>6</th><td>5.4</td><td>3.9</td><td>1.7</td><td>0.4</td><td>setosa</td></tr>\n",
       "\t<tr><th scope=row>7</th><td>4.6</td><td>3.4</td><td>1.4</td><td>0.3</td><td>setosa</td></tr>\n",
       "\t<tr><th scope=row>8</th><td>5.0</td><td>3.4</td><td>1.5</td><td>0.2</td><td>setosa</td></tr>\n",
       "\t<tr><th scope=row>9</th><td>4.4</td><td>2.9</td><td>1.4</td><td>0.2</td><td>setosa</td></tr>\n",
       "\t<tr><th scope=row>10</th><td>4.9</td><td>3.1</td><td>1.5</td><td>0.1</td><td>setosa</td></tr>\n",
       "</tbody>\n",
       "</table>\n"
      ],
      "text/latex": [
       "A data.frame: 5 × 5\n",
       "\\begin{tabular}{r|lllll}\n",
       "  & Sepal.Length & Sepal.Width & Petal.Length & Petal.Width & Species\\\\\n",
       "  & <dbl> & <dbl> & <dbl> & <dbl> & <fct>\\\\\n",
       "\\hline\n",
       "\t6 & 5.4 & 3.9 & 1.7 & 0.4 & setosa\\\\\n",
       "\t7 & 4.6 & 3.4 & 1.4 & 0.3 & setosa\\\\\n",
       "\t8 & 5.0 & 3.4 & 1.5 & 0.2 & setosa\\\\\n",
       "\t9 & 4.4 & 2.9 & 1.4 & 0.2 & setosa\\\\\n",
       "\t10 & 4.9 & 3.1 & 1.5 & 0.1 & setosa\\\\\n",
       "\\end{tabular}\n"
      ],
      "text/markdown": [
       "\n",
       "A data.frame: 5 × 5\n",
       "\n",
       "| <!--/--> | Sepal.Length &lt;dbl&gt; | Sepal.Width &lt;dbl&gt; | Petal.Length &lt;dbl&gt; | Petal.Width &lt;dbl&gt; | Species &lt;fct&gt; |\n",
       "|---|---|---|---|---|---|\n",
       "| 6 | 5.4 | 3.9 | 1.7 | 0.4 | setosa |\n",
       "| 7 | 4.6 | 3.4 | 1.4 | 0.3 | setosa |\n",
       "| 8 | 5.0 | 3.4 | 1.5 | 0.2 | setosa |\n",
       "| 9 | 4.4 | 2.9 | 1.4 | 0.2 | setosa |\n",
       "| 10 | 4.9 | 3.1 | 1.5 | 0.1 | setosa |\n",
       "\n"
      ],
      "text/plain": [
       "   Sepal.Length Sepal.Width Petal.Length Petal.Width Species\n",
       "6  5.4          3.9         1.7          0.4         setosa \n",
       "7  4.6          3.4         1.4          0.3         setosa \n",
       "8  5.0          3.4         1.5          0.2         setosa \n",
       "9  4.4          2.9         1.4          0.2         setosa \n",
       "10 4.9          3.1         1.5          0.1         setosa "
      ]
     },
     "metadata": {},
     "output_type": "display_data"
    }
   ],
   "source": [
    "(data_iris1 <- data.frame(iris[6:10,]))"
   ]
  },
  {
   "cell_type": "markdown",
   "id": "a64af1b6",
   "metadata": {},
   "source": [
    "#### （4）将数据框 data_iris data_irisl 合并为数据框 data_iris2 ，并保存为 csv 文件在同目录下"
   ]
  },
  {
   "cell_type": "code",
   "execution_count": 16,
   "id": "323817e4",
   "metadata": {
    "scrolled": true
   },
   "outputs": [
    {
     "data": {
      "text/html": [
       "<table class=\"dataframe\">\n",
       "<caption>A data.frame: 10 × 5</caption>\n",
       "<thead>\n",
       "\t<tr><th></th><th scope=col>Sepal.Length</th><th scope=col>Sepal.Width</th><th scope=col>Petal.Length</th><th scope=col>Petal.Width</th><th scope=col>Species</th></tr>\n",
       "\t<tr><th></th><th scope=col>&lt;dbl&gt;</th><th scope=col>&lt;dbl&gt;</th><th scope=col>&lt;dbl&gt;</th><th scope=col>&lt;dbl&gt;</th><th scope=col>&lt;chr&gt;</th></tr>\n",
       "</thead>\n",
       "<tbody>\n",
       "\t<tr><th scope=row>1</th><td>5.1</td><td>3.5</td><td>1.7</td><td>0.2</td><td>setosa    </td></tr>\n",
       "\t<tr><th scope=row>2</th><td>4.9</td><td>3.0</td><td>1.8</td><td>0.2</td><td>setosa    </td></tr>\n",
       "\t<tr><th scope=row>3</th><td>4.7</td><td>3.2</td><td>1.9</td><td>0.2</td><td>versicolor</td></tr>\n",
       "\t<tr><th scope=row>4</th><td>4.6</td><td>3.1</td><td>2.0</td><td>0.2</td><td>versicolor</td></tr>\n",
       "\t<tr><th scope=row>5</th><td>5.0</td><td>3.6</td><td>2.1</td><td>0.2</td><td>virginica </td></tr>\n",
       "\t<tr><th scope=row>6</th><td>5.4</td><td>3.9</td><td>1.7</td><td>0.4</td><td>setosa    </td></tr>\n",
       "\t<tr><th scope=row>7</th><td>4.6</td><td>3.4</td><td>1.4</td><td>0.3</td><td>setosa    </td></tr>\n",
       "\t<tr><th scope=row>8</th><td>5.0</td><td>3.4</td><td>1.5</td><td>0.2</td><td>setosa    </td></tr>\n",
       "\t<tr><th scope=row>9</th><td>4.4</td><td>2.9</td><td>1.4</td><td>0.2</td><td>setosa    </td></tr>\n",
       "\t<tr><th scope=row>10</th><td>4.9</td><td>3.1</td><td>1.5</td><td>0.1</td><td>setosa    </td></tr>\n",
       "</tbody>\n",
       "</table>\n"
      ],
      "text/latex": [
       "A data.frame: 10 × 5\n",
       "\\begin{tabular}{r|lllll}\n",
       "  & Sepal.Length & Sepal.Width & Petal.Length & Petal.Width & Species\\\\\n",
       "  & <dbl> & <dbl> & <dbl> & <dbl> & <chr>\\\\\n",
       "\\hline\n",
       "\t1 & 5.1 & 3.5 & 1.7 & 0.2 & setosa    \\\\\n",
       "\t2 & 4.9 & 3.0 & 1.8 & 0.2 & setosa    \\\\\n",
       "\t3 & 4.7 & 3.2 & 1.9 & 0.2 & versicolor\\\\\n",
       "\t4 & 4.6 & 3.1 & 2.0 & 0.2 & versicolor\\\\\n",
       "\t5 & 5.0 & 3.6 & 2.1 & 0.2 & virginica \\\\\n",
       "\t6 & 5.4 & 3.9 & 1.7 & 0.4 & setosa    \\\\\n",
       "\t7 & 4.6 & 3.4 & 1.4 & 0.3 & setosa    \\\\\n",
       "\t8 & 5.0 & 3.4 & 1.5 & 0.2 & setosa    \\\\\n",
       "\t9 & 4.4 & 2.9 & 1.4 & 0.2 & setosa    \\\\\n",
       "\t10 & 4.9 & 3.1 & 1.5 & 0.1 & setosa    \\\\\n",
       "\\end{tabular}\n"
      ],
      "text/markdown": [
       "\n",
       "A data.frame: 10 × 5\n",
       "\n",
       "| <!--/--> | Sepal.Length &lt;dbl&gt; | Sepal.Width &lt;dbl&gt; | Petal.Length &lt;dbl&gt; | Petal.Width &lt;dbl&gt; | Species &lt;chr&gt; |\n",
       "|---|---|---|---|---|---|\n",
       "| 1 | 5.1 | 3.5 | 1.7 | 0.2 | setosa     |\n",
       "| 2 | 4.9 | 3.0 | 1.8 | 0.2 | setosa     |\n",
       "| 3 | 4.7 | 3.2 | 1.9 | 0.2 | versicolor |\n",
       "| 4 | 4.6 | 3.1 | 2.0 | 0.2 | versicolor |\n",
       "| 5 | 5.0 | 3.6 | 2.1 | 0.2 | virginica  |\n",
       "| 6 | 5.4 | 3.9 | 1.7 | 0.4 | setosa     |\n",
       "| 7 | 4.6 | 3.4 | 1.4 | 0.3 | setosa     |\n",
       "| 8 | 5.0 | 3.4 | 1.5 | 0.2 | setosa     |\n",
       "| 9 | 4.4 | 2.9 | 1.4 | 0.2 | setosa     |\n",
       "| 10 | 4.9 | 3.1 | 1.5 | 0.1 | setosa     |\n",
       "\n"
      ],
      "text/plain": [
       "   Sepal.Length Sepal.Width Petal.Length Petal.Width Species   \n",
       "1  5.1          3.5         1.7          0.2         setosa    \n",
       "2  4.9          3.0         1.8          0.2         setosa    \n",
       "3  4.7          3.2         1.9          0.2         versicolor\n",
       "4  4.6          3.1         2.0          0.2         versicolor\n",
       "5  5.0          3.6         2.1          0.2         virginica \n",
       "6  5.4          3.9         1.7          0.4         setosa    \n",
       "7  4.6          3.4         1.4          0.3         setosa    \n",
       "8  5.0          3.4         1.5          0.2         setosa    \n",
       "9  4.4          2.9         1.4          0.2         setosa    \n",
       "10 4.9          3.1         1.5          0.1         setosa    "
      ]
     },
     "metadata": {},
     "output_type": "display_data"
    }
   ],
   "source": [
    "(data_iris2 <- rbind(data_iris, data_iris1))\n",
    "write.csv(data_iris2, file=\"FileSave/data_iris2.csv\")\n",
    "# write.table(data_iris2, file=\"FileTest/data_iris2.csv\",sep=\",\",row.names=FALSE,col.names=TRUE)"
   ]
  }
 ],
 "metadata": {
  "kernelspec": {
   "display_name": "R",
   "language": "R",
   "name": "ir"
  },
  "language_info": {
   "codemirror_mode": "r",
   "file_extension": ".r",
   "mimetype": "text/x-r-source",
   "name": "R",
   "pygments_lexer": "r",
   "version": "4.1.3"
  }
 },
 "nbformat": 4,
 "nbformat_minor": 5
}
